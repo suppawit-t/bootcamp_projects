{
 "cells":[
  {
   "cell_type":"markdown",
   "source":[
    "# Python Homework 02 - ATM\n",
    "**Author**: `Suppawit Thiamhong`"
   ],
   "attachments":{
    
   },
   "metadata":{
    "datalore":{
     "node_id":"VJpOX1MnM8t0R87XrnqyCe",
     "type":"MD",
     "hide_input_from_viewers":false,
     "hide_output_from_viewers":false
    }
   }
  },
  {
   "cell_type":"code",
   "source":[
    "class ATM:\n",
    "    def __init__(self, name, balance):\n",
    "        self.name = name\n",
    "        self.balance = balance\n",
    "\n",
    "    def check_balance(self):\n",
    "        message = f\"Name: {self.name}, Balance: {self.balance}\"\n",
    "        print(message)\n",
    "\n",
    "    def deposit(self, money):\n",
    "        self.balance += money \n",
    "        print(\"Deposit successfully.\")\n",
    "        print(f\"Total Balance: {self.balance}\")\n",
    "\n",
    "    def change_name(self, newname):\n",
    "        self.name = newname \n",
    "        print(f\"New Name: {self.name}\")\n",
    "        print(\"Your account name has been changed.\")\n",
    "\n",
    "    def withdraw(self,money):\n",
    "        self.balance -= money \n",
    "        print(\"Withdraw successfully.\")\n",
    "        print(f\"Total Balance: {self.balance}\")\n",
    "        \n",
    "    def withdraw_fee(self,money):\n",
    "        self.balance -= (money+15) \n",
    "        print(\"Withdraw successfully.\")\n",
    "        print(\"Fee 15 Baht\")\n",
    "        print(f\"Total Balance: {self.balance}\")"
   ],
   "execution_count":1,
   "outputs":[
    
   ],
   "metadata":{
    "datalore":{
     "node_id":"AtdkbsGUAB3B7gTMGPyaNE",
     "type":"CODE",
     "hide_input_from_viewers":false,
     "hide_output_from_viewers":false
    }
   }
  },
  {
   "cell_type":"code",
   "source":[
    "SCB = ATM(\"Prem\", 3000)"
   ],
   "execution_count":2,
   "outputs":[
    
   ],
   "metadata":{
    "datalore":{
     "node_id":"WtQmBSdgA2WEgbroiJWcXk",
     "type":"CODE",
     "hide_input_from_viewers":false,
     "hide_output_from_viewers":false
    }
   }
  },
  {
   "cell_type":"code",
   "source":[
    "SCB.check_balance()\n",
    "SCB.deposit(1500)\n",
    "SCB.change_name(\"PrZxD\")\n",
    "SCB.withdraw(500)\n",
    "SCB.withdraw_fee(300)"
   ],
   "execution_count":3,
   "outputs":[
    {
     "name":"stdout",
     "text":[
      "Name: Prem, Balance: 3000\n",
      "Deposit successfully.\n",
      "Total Balance: 4500\n",
      "New Name: PrZxD\n",
      "Your account name has been changed.\n",
      "Withdraw successfully.\n",
      "Total Balance: 4000\n",
      "Withdraw successfully.\n",
      "Fee 15 Baht\n",
      "Total Balance: 3685\n"
     ],
     "output_type":"stream"
    }
   ],
   "metadata":{
    "datalore":{
     "node_id":"60zBPgoMuPuIeWGmgPiCpQ",
     "type":"CODE",
     "hide_input_from_viewers":false,
     "hide_output_from_viewers":false
    }
   }
  }
 ],
 "metadata":{
  "kernelspec":{
   "display_name":"Python",
   "language":"python",
   "name":"python"
  },
  "datalore":{
   "version":1,
   "computation_mode":"JUPYTER",
   "package_manager":"pip",
   "base_environment":"default",
   "packages":[
    
   ]
  }
 },
 "nbformat":4,
 "nbformat_minor":4
}