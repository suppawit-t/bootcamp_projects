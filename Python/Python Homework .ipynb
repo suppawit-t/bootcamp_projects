{
 "cells":[
  {
   "cell_type":"markdown",
   "source":[
    "# Pao Ying Chub"
   ],
   "attachments":{
    
   },
   "metadata":{
    "datalore":{
     "node_id":"Pao Ying Chub",
     "type":"MD",
     "hide_input_from_viewers":false,
     "hide_output_from_viewers":false,
     "sheet_delimiter":true
    }
   }
  },
  {
   "cell_type":"markdown",
   "source":[
    "# Python Homework 01 - Pao Ying Chub\n",
    "**Author**: `Suppawit Thiamhong`"
   ],
   "attachments":{
    
   },
   "metadata":{
    "datalore":{
     "node_id":"3T3chnwEOSeKSiBuJu72un",
     "type":"MD",
     "hide_input_from_viewers":false,
     "hide_output_from_viewers":false
    }
   }
  },
  {
   "cell_type":"code",
   "source":[
    "import random\n",
    "\n",
    "win = 0\n",
    "draw = 0\n",
    "lose = 0\n",
    "match = -1\n",
    "player = 0\n",
    "\n",
    "print(\"Welcome to Pao Ying Chub game!\")\n",
    "print(\"If you want to stop the game Press Q\")\n",
    "\n",
    "while True:\n",
    "    action = input(\"Your turn!, [1]Rock [2]Paper [3]Scissor\")\n",
    "    ai = random.choice([\"Rock\",\"Paper\",\"Scissor\"])\n",
    "    match += 1\n",
    "\n",
    "    #Rock\n",
    "    if action == \"1\" and ai == \"Rock\":\n",
    "        draw += 1\n",
    "        print(\"Draw!\")\n",
    "    elif action == \"1\" and ai == \"Paper\":\n",
    "        lose += 1\n",
    "        print(\"You Lose!\")\n",
    "    elif action == \"1\" and ai == \"Scissor\":\n",
    "        win += 1\n",
    "        print(\"You Win!\")\n",
    "\n",
    "    #Paper\n",
    "    if action == \"2\" and ai == \"Rock\":\n",
    "        win += 1\n",
    "        print(\"You Win!\")\n",
    "    elif action == \"2\" and ai == \"Paper\":\n",
    "        draw += 1\n",
    "        print(\"Draw!\")\n",
    "    elif action == \"2\" and ai == \"Scissor\":\n",
    "        lose += 1\n",
    "        print(\"You Lose!\")\n",
    "\n",
    "    #Scissor\n",
    "    if action == \"3\" and ai == \"Rock\":\n",
    "        lose += 1\n",
    "        print(\"You Lose!\")\n",
    "    elif action == \"3\" and ai == \"Paper\":\n",
    "        win += 1\n",
    "        print(\"You Win!\")\n",
    "    elif action == \"3\" and ai == \"Scissor\":\n",
    "        draw += 1\n",
    "        print(\"Draw!\")\n",
    "\n",
    "    if action == \"Q\":\n",
    "        print(f\"Total Match: {match}\")\n",
    "        print(f\"Win:    {win}\")\n",
    "        print(f\"Draw:   {draw}\")\n",
    "        print(f\"Lose:   {lose}\")\n",
    "        break"
   ],
   "execution_count":1,
   "outputs":[
    {
     "name":"stdout",
     "text":[
      "Welcome to Pao Ying Chub game!\n",
      "If you want to stop the game Press Q\n",
      "Your turn!, [1]Rock [2]Paper [3]Scissor 1\n",
      "You Lose!\n",
      "Your turn!, [1]Rock [2]Paper [3]Scissor 2\n",
      "You Lose!\n",
      "Your turn!, [1]Rock [2]Paper [3]Scissor 3\n",
      "You Lose!\n",
      "Your turn!, [1]Rock [2]Paper [3]Scissor 1\n",
      "You Lose!\n",
      "Your turn!, [1]Rock [2]Paper [3]Scissor 2\n",
      "You Win!\n",
      "Your turn!, [1]Rock [2]Paper [3]Scissor 2\n",
      "Draw!\n",
      "Your turn!, [1]Rock [2]Paper [3]Scissor 1\n",
      "Draw!\n",
      "Your turn!, [1]Rock [2]Paper [3]Scissor Q\n",
      "Total Match: 7\n",
      "Win:    1\n",
      "Draw:   2\n",
      "Lose:   4\n"
     ],
     "output_type":"stream"
    }
   ],
   "metadata":{
    "datalore":{
     "node_id":"KytFkp4iQOgpf96C9UwTw5",
     "type":"CODE",
     "hide_input_from_viewers":false,
     "hide_output_from_viewers":false
    }
   }
  },
  {
   "cell_type":"markdown",
   "source":[
    "# ATM"
   ],
   "attachments":{
    
   },
   "metadata":{
    "datalore":{
     "node_id":"ATM",
     "type":"MD",
     "hide_input_from_viewers":false,
     "hide_output_from_viewers":false,
     "sheet_delimiter":true
    }
   }
  },
  {
   "cell_type":"markdown",
   "source":[
    "# Python Homework 02 - ATM\n",
    "**Author**: `Suppawit Thiamhong`"
   ],
   "attachments":{
    
   },
   "metadata":{
    "datalore":{
     "node_id":"k322qVoolQhxrc5KpNn7kt",
     "type":"MD",
     "hide_input_from_viewers":false,
     "hide_output_from_viewers":false
    }
   }
  },
  {
   "cell_type":"code",
   "source":[
    "class ATM:\n",
    "    def __init__(self, name, balance):\n",
    "        self.name = name\n",
    "        self.balance = balance\n",
    "\n",
    "    def check_balance(self):\n",
    "        message = f\"Name: {self.name}, Balance: {self.balance}\"\n",
    "        print(message)\n",
    "\n",
    "    def deposit(self, money):\n",
    "        self.balance += money \n",
    "        print(\"Deposit successfully.\")\n",
    "        print(f\"Total Balance: {self.balance}\")\n",
    "\n",
    "    def change_name(self, newname):\n",
    "        self.name = newname \n",
    "        print(f\"New Name: {self.name}\")\n",
    "        print(\"Your account name has been changed.\")\n",
    "\n",
    "    def withdraw(self,money):\n",
    "        self.balance -= money \n",
    "        print(\"Withdraw successfully.\")\n",
    "        print(f\"Total Balance: {self.balance}\")\n",
    "        \n",
    "    def withdraw_fee(self,money):\n",
    "        self.balance -= (money+15) \n",
    "        print(\"Withdraw successfully.\")\n",
    "        print(\"Fee 15 Baht\")\n",
    "        print(f\"Total Balance: {self.balance}\")\n",
    "       "
   ],
   "execution_count":3,
   "outputs":[
    
   ],
   "metadata":{
    "datalore":{
     "node_id":"1KpBtsAKy14pTtBIbcVFTa",
     "type":"CODE",
     "hide_input_from_viewers":false,
     "hide_output_from_viewers":false
    }
   }
  },
  {
   "cell_type":"code",
   "source":[
    "SCB = ATM(\"Prem\", 3000)"
   ],
   "execution_count":4,
   "outputs":[
    
   ],
   "metadata":{
    "datalore":{
     "node_id":"8zpXOo9vMg6ex8ZbS0f8WU",
     "type":"CODE",
     "hide_input_from_viewers":false,
     "hide_output_from_viewers":false
    }
   }
  },
  {
   "cell_type":"code",
   "source":[
    "SCB.check_balance()\n",
    "SCB.deposit(1500)\n",
    "SCB.change_name(\"PrZxD\")\n",
    "SCB.withdraw(500)\n",
    "SCB.withdraw_fee(300)"
   ],
   "execution_count":7,
   "outputs":[
    {
     "name":"stdout",
     "text":[
      "Name: PrZxD, Balance: 4370\n",
      "Deposit successfully.\n",
      "Total Balance: 5870\n",
      "New Name: PrZxD\n",
      "Your account name has been changed.\n",
      "Withdraw successfully.\n",
      "Total Balance: 5370\n",
      "Withdraw successfully.\n",
      "Fee 15 Baht\n",
      "Total Balance: 5055\n"
     ],
     "output_type":"stream"
    }
   ],
   "metadata":{
    "datalore":{
     "node_id":"oQET4CuLEWNmshPS3ruAJN",
     "type":"CODE",
     "hide_input_from_viewers":false,
     "hide_output_from_viewers":false
    }
   }
  }
 ],
 "metadata":{
  "kernelspec":{
   "display_name":"Python",
   "language":"python",
   "name":"python"
  },
  "datalore":{
   "version":1,
   "computation_mode":"JUPYTER",
   "package_manager":"pip",
   "base_environment":"default",
   "packages":[
    
   ]
  }
 },
 "nbformat":4,
 "nbformat_minor":4
}