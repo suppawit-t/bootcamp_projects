{
 "cells":[
  {
   "cell_type":"markdown",
   "source":[
    "# Pao Ying Chub"
   ],
   "attachments":{
    
   },
   "metadata":{
    "datalore":{
     "node_id":"Pao Ying Chub",
     "type":"MD",
     "hide_input_from_viewers":false,
     "hide_output_from_viewers":false,
     "sheet_delimiter":true
    }
   }
  },
  {
   "cell_type":"markdown",
   "source":[
    "# Python Homework 01 - Pao Ying Chub\n",
    "**Author**: `Suppawit Thiamhong`"
   ],
   "attachments":{
    
   },
   "metadata":{
    "datalore":{
     "node_id":"3T3chnwEOSeKSiBuJu72un",
     "type":"MD",
     "hide_input_from_viewers":false,
     "hide_output_from_viewers":false
    }
   }
  },
  {
   "cell_type":"code",
   "source":[
    "import random\n",
    "\n",
    "win = 0\n",
    "draw = 0\n",
    "lose = 0\n",
    "match = -1\n",
    "player = 0\n",
    "\n",
    "print(\"Welcome to Pao Ying Chub game!\")\n",
    "print(\"If you want to stop the game Press Q\")\n",
    "\n",
    "while True:\n",
    "    action = input(\"Your turn!, [1]Rock [2]Paper [3]Scissor\")\n",
    "    ai = random.choice([\"Rock\",\"Paper\",\"Scissor\"])\n",
    "    match += 1\n",
    "\n",
    "    #Rock\n",
    "    if action == \"1\" and ai == \"Rock\":\n",
    "        draw += 1\n",
    "        print(\"Draw!\")\n",
    "    elif action == \"1\" and ai == \"Paper\":\n",
    "        lose += 1\n",
    "        print(\"You Lose!\")\n",
    "    elif action == \"1\" and ai == \"Scissor\":\n",
    "        win += 1\n",
    "        print(\"You Win!\")\n",
    "\n",
    "    #Paper\n",
    "    if action == \"2\" and ai == \"Rock\":\n",
    "        win += 1\n",
    "        print(\"You Win!\")\n",
    "    elif action == \"2\" and ai == \"Paper\":\n",
    "        draw += 1\n",
    "        print(\"Draw!\")\n",
    "    elif action == \"2\" and ai == \"Scissor\":\n",
    "        lose += 1\n",
    "        print(\"You Lose!\")\n",
    "\n",
    "    #Scissor\n",
    "    if action == \"3\" and ai == \"Rock\":\n",
    "        lose += 1\n",
    "        print(\"You Lose!\")\n",
    "    elif action == \"3\" and ai == \"Paper\":\n",
    "        win += 1\n",
    "        print(\"You Win!\")\n",
    "    elif action == \"3\" and ai == \"Scissor\":\n",
    "        draw += 1\n",
    "        print(\"Draw!\")\n",
    "\n",
    "    if action == \"Q\":\n",
    "        print(f\"Total Match: {match}\")\n",
    "        print(f\"Win:    {win}\")\n",
    "        print(f\"Draw:   {draw}\")\n",
    "        print(f\"Lose:   {lose}\")\n",
    "        break"
   ],
   "execution_count":2,
   "outputs":[
    {
     "name":"stdout",
     "text":[
      "Welcome to Pao Ying Chub game!\n",
      "If you want to stop the game Press Q\n",
      "Your turn!, [1]Rock [2]Paper [3]Scissor 1\n",
      "Draw!\n",
      "Your turn!, [1]Rock [2]Paper [3]Scissor 2\n",
      "Draw!\n",
      "Your turn!, [1]Rock [2]Paper [3]Scissor 3\n",
      "You Win!\n",
      "Your turn!, [1]Rock [2]Paper [3]Scissor 1\n",
      "You Lose!\n",
      "Your turn!, [1]Rock [2]Paper [3]Scissor 2\n",
      "Draw!\n",
      "Your turn!, [1]Rock [2]Paper [3]Scissor 2\n",
      "You Win!\n",
      "Your turn!, [1]Rock [2]Paper [3]Scissor Q\n",
      "Total Match: 6\n",
      "Win:    2\n",
      "Draw:   3\n",
      "Lose:   1\n"
     ],
     "output_type":"stream"
    }
   ],
   "metadata":{
    "datalore":{
     "node_id":"KytFkp4iQOgpf96C9UwTw5",
     "type":"CODE",
     "hide_input_from_viewers":false,
     "hide_output_from_viewers":false
    }
   }
  }
 ],
 "metadata":{
  "kernelspec":{
   "display_name":"Python",
   "language":"python",
   "name":"python"
  },
  "datalore":{
   "version":1,
   "computation_mode":"JUPYTER",
   "package_manager":"pip",
   "base_environment":"default",
   "packages":[
    
   ]
  }
 },
 "nbformat":4,
 "nbformat_minor":4
}